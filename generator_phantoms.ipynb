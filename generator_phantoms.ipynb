{
 "cells": [
  {
   "cell_type": "code",
   "execution_count": 1,
   "metadata": {},
   "outputs": [],
   "source": [
    "import porespy as ps\n",
    "import matplotlib.pyplot as plt\n",
    "\n",
    "import numpy as np\n",
    "from skimage.transform import radon, iradon\n",
    "from scipy import ndimage\n",
    "\n",
    "from pathlib import Path\n",
    "import cv2\n",
    "\n",
    "from tqdm import tqdm"
   ]
  },
  {
   "cell_type": "code",
   "execution_count": 2,
   "metadata": {},
   "outputs": [],
   "source": [
    "def crop(img, shape, center=None):\n",
    "    def left_edge(index):\n",
    "        return np.ceil(center[index] - halves[index]).astype(int)\n",
    "\n",
    "    def right_edge(index):\n",
    "        return np.ceil(center[index] + halves[index] + odds[index]).astype(int)\n",
    "\n",
    "    if center is None:\n",
    "        center = [x // 2 for x in img.shape]\n",
    "\n",
    "    halves = [x // 2 for x in shape]\n",
    "    odds = [x % 2 for x in shape]\n",
    "\n",
    "    ranges = (\n",
    "        slice(\n",
    "            left_edge(i),\n",
    "            right_edge(i)\n",
    "        )\n",
    "        for i in range(img.ndim)\n",
    "    )\n",
    "\n",
    "    return img[tuple(ranges)]\n",
    "\n",
    "\n",
    "def create_sinogram(num_of_angles, img):\n",
    "    set_of_angles = np.linspace(0, 180, num_of_angles, endpoint=False)\n",
    "    if len(img.shape) == 3:\n",
    "        sim = np.asarray([radon(img_slice, theta=set_of_angles, circle=False) for img_slice in img])\n",
    "    else:\n",
    "        sim = radon(img, theta=set_of_angles, circle=False)\n",
    "\n",
    "    return sim\n",
    "\n",
    "\n",
    "def reconstruct(sinogram):\n",
    "    if len(sinogram.shape) == 3:\n",
    "        set_of_angles = np.linspace(0, 180, sinogram[0].shape[1], endpoint=False)\n",
    "        image = [iradon(s, set_of_angles) for s in sinogram]\n",
    "    else:\n",
    "        set_of_angles = np.linspace(0, 180, sinogram.shape[1], endpoint=False)\n",
    "        image = iradon(sinogram, set_of_angles)\n",
    "\n",
    "    image = np.asarray(image)\n",
    "\n",
    "    return image\n",
    "\n",
    "\n",
    "def add_poisson_noise(sinogram, intensity):\n",
    "    sinogram = sinogram / 100.0  # TODO: add comment why it is so?\n",
    "    I_0 = np.random.poisson(lam=intensity,\n",
    "                            size=sinogram.shape\n",
    "                            ).astype('float32')\n",
    "    sinogram = np.exp(-sinogram) * I_0\n",
    "\n",
    "    exposition = 10.0  # TODO: fix magic parameter\n",
    "\n",
    "    I_0_arr = np.random.poisson(lam=intensity * exposition,\n",
    "                                size=sinogram.shape).astype('float32') / exposition\n",
    "\n",
    "    sinogram = np.log(I_0_arr / sinogram)\n",
    "    sinogram *= 100.0\n",
    "    sinogram = np.ceil(sinogram)\n",
    "\n",
    "    return sinogram\n",
    "\n",
    "\n",
    "def add_poisson_noise_physical(sinogram,\n",
    "                               nominal_intensity,\n",
    "                               pixel_size=0.02,\n",
    "                               frame_count=1,\n",
    "                               gauss_sigma=0.56):\n",
    "\n",
    "    I0_empty = np.zeros(sinogram.shape)\n",
    "    for i in range(frame_count):\n",
    "        I0_empty += np.round(np.random.poisson(\n",
    "                                      lam=nominal_intensity,\n",
    "                                      size=sinogram.shape\n",
    "                                     ))\n",
    "    I0_empty /= frame_count \n",
    "\n",
    "    I0 = np.random.poisson(lam=nominal_intensity,\n",
    "                           size=sinogram.shape\n",
    "                          ).astype('float32')\n",
    "\n",
    "    experimental_sinogram = I0*np.exp(- sinogram * pixel_size)\n",
    "    experimental_sinogram = sinogram_detector_blurring(experimental_sinogram, gauss_sigma).astype(int)\n",
    "\n",
    "    #TODO: here we get rid of zero values. Make it more flexible\n",
    "    experimental_sinogram[experimental_sinogram < 1] = 1\n",
    "\n",
    "    noised_radon_sinogram = np.log(I0_empty/experimental_sinogram) / pixel_size\n",
    "    \n",
    "    return noised_radon_sinogram, experimental_sinogram\n",
    "\n",
    "\n",
    "def sinogram_detector_blurring(sinograms, gauss_sigma):\n",
    "    if not gauss_sigma:\n",
    "        return sinograms\n",
    "\n",
    "    _sinograms = np.copy(sinograms).astype(float)\n",
    "    dim = len(_sinograms.shape)\n",
    "    num_of_angles = _sinograms.shape[2] if dim == 3 else _sinograms.shape[1]\n",
    "    result = np.empty_like(_sinograms)\n",
    "    for angle in np.arange(num_of_angles):\n",
    "        projection = _sinograms[:, :, angle] if dim == 3 else _sinograms[:, angle]\n",
    "        projection_dim = len(projection.shape)\n",
    "        for axis in np.arange(projection_dim):\n",
    "            output = ndimage.gaussian_filter1d(projection, gauss_sigma, axis)\n",
    "            projection = output\n",
    "        result[:, angle] = projection\n",
    "    return result\n",
    "\n",
    "\n",
    "def from_absorption_to_phase_contrat(img, k, mu, axis = 0):\n",
    "    def _apply_filter_function(arr, k = k, mu = mu, axis = axis):\n",
    "        freq = np.fft.fftfreq(arr.shape[axis])\n",
    "        filter_func = 1 / (k * freq**2 + mu)\n",
    "        if axis == 0:\n",
    "            return np.transpose([row * filter_func for row in arr.T])\n",
    "        else:\n",
    "            return np.transpose([row * filter_func for row in arr])\n",
    "\n",
    "    data_fft = np.fft.fftshift(np.fft.fft(img, axis=0))\n",
    "    data_fft_cor = _apply_filter_function(data_fft)\n",
    "    return np.abs(np.fft.ifft(np.fft.ifftshift(data_fft_cor), axis=0))\n",
    "\n",
    "\n",
    "def process_image(image,\n",
    "                  angles_number,\n",
    "                  noise_parameter,\n",
    "                  noise_method,\n",
    "                  k=30,\n",
    "                  mu = 0.1,\n",
    "                  pixel_size=0.01,\n",
    "                  frame_count=1,\n",
    "                  gauss_sigma=0.56):\n",
    "    \"\"\"\n",
    "    :param image:\n",
    "    :param angles_number:\n",
    "    :param noise_parameter:\n",
    "    :param noise_method: should be 'poisson' or None:\n",
    "    :k: параметр паганинской фильтрации (k*freq + mu)\n",
    "    :mu: параметр паганинской фильтрации (k*freq + mu)\n",
    "    :pixel_size:\n",
    "    :frame_count:\n",
    "    :gauss_sigma:\n",
    "    :return:\n",
    "    \"\"\"\n",
    "    image = from_absorption_to_phase_contrat(image.copy(), k = k, mu = mu, axis=0)\n",
    "    sim0 = create_sinogram(angles_number, image)\n",
    "    # print(\"sinogram shape: \", sim0.shape, \"min|max\", sim0.min(), sim0.max())\n",
    "    if noise_method == 'poisson':\n",
    "        sim, _ = add_poisson_noise_physical(sim0,\n",
    "                                            noise_parameter,\n",
    "                                            pixel_size,\n",
    "                                            frame_count,\n",
    "                                            gauss_sigma)\n",
    "    elif noise_method is None:\n",
    "        pass\n",
    "    else:\n",
    "        raise ValueError(\"noise_method should be 'poisson' or None. Given {}\".format(noise_method))\n",
    "    rec = reconstruct(sim)\n",
    "    # print(\"reconstruction shape: \", rec.shape)\n",
    "    return crop(rec, image.shape)\n",
    "\n",
    "\n",
    "normalize = lambda x: ((x - x.min()) / (x.max() - x.min()) * 255).astype(int)"
   ]
  },
  {
   "cell_type": "markdown",
   "metadata": {},
   "source": [
    "# Main"
   ]
  },
  {
   "cell_type": "code",
   "execution_count": 3,
   "metadata": {},
   "outputs": [
    {
     "data": {
      "text/plain": [
       "<matplotlib.image.AxesImage at 0x7f5858ece8b0>"
      ]
     },
     "execution_count": 3,
     "metadata": {},
     "output_type": "execute_result"
    },
    {
     "data": {
      "image/png": "[encoded data removed]",
      "text/plain": [
       "<Figure size 432x288 with 1 Axes>"
      ]
     },
     "metadata": {
      "needs_background": "light"
     },
     "output_type": "display_data"
    }
   ],
   "source": [
    "img = ps.generators.blobs(shape=[500, 500], porosity=0.6, blobiness=1)\n",
    "plt.imshow(img)"
   ]
  },
  {
   "cell_type": "code",
   "execution_count": 4,
   "metadata": {},
   "outputs": [],
   "source": [
    "img_paths = Path(\"data_phantoms/imgs/\")\n",
    "mask_paths = Path(\"data_phantoms/masks/\")\n",
    "img_paths.mkdir(parents=True, exist_ok=True)\n",
    "mask_paths.mkdir(parents=True, exist_ok=True)"
   ]
  },
  {
   "cell_type": "code",
   "execution_count": 6,
   "metadata": {},
   "outputs": [
    {
     "name": "stderr",
     "output_type": "stream",
     "text": [
      " 58%|█████▊    | 58/100 [02:03<01:29,  2.13s/it]"
     ]
    }
   ],
   "source": [
    "porosity, blobiness = 0.5, 1\n",
    "k, mu = 30, 0.1\n",
    "shape = [500, 500]\n",
    "count = 100\n",
    "\n",
    "\n",
    "for i in tqdm(range(count)):\n",
    "\n",
    "    bin_img = ps.generators.blobs(shape=shape, porosity=porosity, blobiness=blobiness)\n",
    "    proc = process_image(bin_img,\n",
    "                        180,\n",
    "                        1000,\n",
    "                        'poisson',\n",
    "                        k = k,\n",
    "                        mu = mu,\n",
    "                        pixel_size=0.01,\n",
    "                        frame_count=1,\n",
    "                        gauss_sigma=0.56)\n",
    "\n",
    "    cv2.imwrite(str(img_paths.joinpath(f\"{i}.tif\")), normalize(proc.astype(float)))\n",
    "    cv2.imwrite(str(mask_paths.joinpath(f\"{i}.tif\")), normalize(bin_img.astype(float)))\n"
   ]
  },
  {
   "cell_type": "code",
   "execution_count": null,
   "metadata": {},
   "outputs": [],
   "source": []
  }
 ],
 "metadata": {
  "interpreter": {
   "hash": "3157c0656da8e00dec6d5aba2c5bbf0c7c9eafba09e97e4adaa27a0418039168"
  },
  "kernelspec": {
   "display_name": "Python 3.8.12 ('porespy')",
   "language": "python",
   "name": "python3"
  },
  "language_info": {
   "codemirror_mode": {
    "name": "ipython",
    "version": 3
   },
   "file_extension": ".py",
   "mimetype": "text/x-python",
   "name": "python",
   "nbconvert_exporter": "python",
   "pygments_lexer": "ipython3",
   "version": "3.8.12"
  },
  "orig_nbformat": 4
 },
 "nbformat": 4,
 "nbformat_minor": 2
}
